{
 "cells": [
  {
   "cell_type": "markdown",
   "metadata": {
    "id": "V_re9be1qx4o"
   },
   "source": [
    "# Quadratic Equation Solver\n",
    "\n",
    "## Objective\n",
    "In this notebook, we will create a Python script that solves a quadratic equation of the form:\n",
    "\n",
    "$\n",
    "ax^2 + bx + c = 0\n",
    "$\n",
    "\n",
    "The user will input the values of $a$, $b$, and $c$, and the script will calculate and display the roots of the equation.\n",
    "\n",
    "### Steps:\n",
    "1. Define the function to solve the quadratic equation.\n",
    "2. Take user inputs for the coefficients $a$, $b$, and $c$.\n",
    "3. Display the roots of the equation.\n"
   ]
  },
  {
   "cell_type": "markdown",
   "metadata": {
    "id": "Wf6_KyGw6Npt"
   },
   "source": [
    "## Version Control Setup\n",
    "\n",
    "Before starting with the code implementation, we need to set up version control for our project. This will allow us to keep track of changes and push our code to a remote repository, such as GitHub.\n",
    "\n",
    "### Steps:\n",
    "\n",
    "1. **Create a virtual environment** (if working locally):\n",
    "    - Run the following command in your terminal to create a virtual environment:\n",
    "    ```bash\n",
    "    python -m venv venv\n",
    "    ```\n",
    "    - After creating the virtual environment, activate it:\n",
    "      - On **Windows**:\n",
    "      ```bash\n",
    "      venv\\Scripts\\activate\n",
    "      ```\n",
    "      - On **macOS/Linux**:\n",
    "      ```bash\n",
    "      source venv/bin/activate\n",
    "      ```\n",
    "\n",
    "2. **Install required packages**:\n",
    "    - Install the necessary packages for the project:\n",
    "    ```bash\n",
    "    pip install numpy pandas\n",
    "    ```\n",
    "\n",
    "3. **Initialize a Git repository** in your project folder:\n",
    "    ```bash\n",
    "    git init\n",
    "    ```\n",
    "\n",
    "4. **Add project files to Git** but **ignore the virtual environment folder** (`venv`):\n",
    "    - Make sure the `venv` folder is ignored by adding it to `.gitignore` (if it isn't already).\n",
    "    - Add the necessary project files to Git:\n",
    "    ```bash\n",
    "    git add README.md quadratic_equation_solver_project/ your-code/ requirements.txt .gitignore\n",
    "    ```\n",
    "\n",
    "5. **Commit the changes**:\n",
    "    ```bash\n",
    "    git commit -m \"Initial commit for quadratic equation solver project\"\n",
    "    ```\n",
    "\n",
    "6. **Push your project to a remote GitHub repository**:\n",
    "    ```bash\n",
    "    git remote add origin <remote-repo-url>\n",
    "    git push -u origin main\n",
    "    ```\n"
   ]
  },
  {
   "cell_type": "markdown",
   "metadata": {
    "id": "wVYiQ6h1seF9"
   },
   "source": [
    "## Quadratic Formula\n",
    "\n",
    "The quadratic equation $ax^2 + bx + c = 0$ can be solved using the quadratic formula:\n",
    "\n",
    "$\n",
    "x = \\frac{-b \\pm \\sqrt{b^2 - 4ac}}{2a}\n",
    "$\n",
    "\n",
    "- **Discriminant**: $D = b^2 - 4ac$\n",
    "  - The discriminant determines the nature of the roots:\n",
    "    - If $D > 0$, there are two real roots.\n",
    "    - If $D = 0$, there is one real root.\n",
    "    - If $D < 0$, there are no real roots (the roots are complex).\n"
   ]
  },
  {
   "cell_type": "markdown",
   "metadata": {
    "id": "R1go9LgIsku-"
   },
   "source": [
    "## Function Explanation\n",
    "\n",
    "The function `solve_quadratic(a, b, c)` follows these steps:\n",
    "1. It calculates the discriminant $D = b^2 - 4ac$.\n",
    "2. If the discriminant is positive, it calculates two real roots.\n",
    "3. If the discriminant is zero, it calculates a single real root.\n",
    "4. If the discriminant is negative, it returns that there are \"No real roots\".\n",
    "\n",
    "\n",
    "The function uses Python's `math.sqrt()` to compute the square root of the discriminant.\n"
   ]
  },
  {
   "cell_type": "code",
   "execution_count": 1,
   "metadata": {
    "executionInfo": {
     "elapsed": 11,
     "status": "ok",
     "timestamp": 1740015628440,
     "user": {
      "displayName": "Ginosca Alejandro Dávila",
      "userId": "10393856825300828184"
     },
     "user_tz": 240
    },
    "id": "Kn2OCTPyqWDu"
   },
   "outputs": [],
   "source": [
    "import math\n",
    "\n",
    "def solve_quadratic(a, b, c):\n",
    "    try:\n",
    "        # Ensure 'a' is not zero\n",
    "        if a == 0:\n",
    "            return \"Invalid input: 'a' cannot be zero (not a quadratic equation).\"\n",
    "\n",
    "        discriminant = b**2 - 4*a*c\n",
    "        if discriminant > 0:\n",
    "            root1 = (-b + math.sqrt(discriminant)) / (2 * a)\n",
    "            root2 = (-b - math.sqrt(discriminant)) / (2 * a)\n",
    "            return root1, root2  # Return as a tuple\n",
    "        elif discriminant == 0:\n",
    "            root = -b / (2 * a)\n",
    "            return (root,)  # Return a tuple with one element\n",
    "        else:\n",
    "            return \"No real roots\"\n",
    "\n",
    "    except ValueError:\n",
    "        return \"Invalid input: Please enter numeric values for a, b, and c.\"\n"
   ]
  },
  {
   "cell_type": "markdown",
   "metadata": {
    "id": "9CkurcrT8KbR"
   },
   "source": [
    "## Installing Necessary Packages and Creating `requirements.txt`\n",
    "\n",
    "In this section, we will install the necessary Python packages (`numpy`, `pandas`) and create a `requirements.txt` file. The `requirements.txt` file will list only the explicitly required dependencies for this project.\n",
    "\n",
    "If you're working **locally**, make sure you activate your virtual environment before running these commands:\n",
    "\n",
    "1. Install the required packages for the project:\n",
    "    ```bash\n",
    "    pip install numpy pandas\n",
    "    ```\n",
    "\n",
    "2. Create the `requirements.txt` file:\n",
    "    - Instead of using `pip freeze`, which includes all installed packages (including unnecessary ones),\n",
    "      we explicitly define the required dependencies in `requirements.txt`:\n",
    "    ```python\n",
    "    required_packages = [\"numpy\", \"pandas\"]\n",
    "\n",
    "    with open(\"requirements.txt\", \"w\") as f:\n",
    "        for package in required_packages:\n",
    "            f.write(f\"{package}\\n\")\n",
    "\n",
    "    # Verify that the file was created successfully\n",
    "    with open(\"requirements.txt\", \"r\") as f:\n",
    "        print(\"requirements.txt content:\\n\", f.read())\n",
    "    ```\n",
    "\n",
    "This ensures that only **`numpy` and `pandas`** are recorded in `requirements.txt`, avoiding unnecessary dependencies.\n"
   ]
  },
  {
   "cell_type": "code",
   "execution_count": 10,
   "metadata": {
    "id": "KW401NuXzUKz"
   },
   "outputs": [
    {
     "name": "stdout",
     "output_type": "stream",
     "text": [
      "requirements.txt content:\n",
      " numpy\n",
      "pandas\n",
      "\n"
     ]
    }
   ],
   "source": [
    "import os\n",
    "import subprocess\n",
    "\n",
    "# Define the required packages\n",
    "required_packages = [\"numpy\", \"pandas\"]\n",
    "\n",
    "# Install required packages\n",
    "subprocess.run([\"pip\", \"install\"] + required_packages)\n",
    "\n",
    "# Define the filename for requirements.txt\n",
    "requirements_file = \"requirements.txt\"\n",
    "\n",
    "# Create a clean requirements.txt in the same folder as the notebook\n",
    "with open(requirements_file, \"w\") as f:\n",
    "    for package in required_packages:\n",
    "        f.write(f\"{package}\\n\")\n",
    "\n",
    "# Verify that the file was created successfully\n",
    "with open(requirements_file, \"r\") as f:\n",
    "    print(\"requirements.txt content:\\n\", f.read())\n"
   ]
  },
  {
   "cell_type": "markdown",
   "metadata": {
    "id": "1NT2w3l68USQ"
   },
   "source": [
    "## Git Initialization and Commit (For Reference)\n",
    "\n",
    "In this section, we would initialize a **Git repository** and commit the changes. While these commands are provided for reference, **they should be executed in your terminal (not in the notebook)** to properly track the changes and push the code to a remote GitHub repository.\n",
    "\n",
    "### Steps:\n",
    "1. **Initialize the Git repository**:\n",
    "    ```bash\n",
    "    git init\n",
    "    ```\n",
    "\n",
    "2. **Add the necessary files** to the Git staging area (ensure that the `venv` folder is ignored):\n",
    "    ```bash\n",
    "    git add README.md quadratic_equation_solver_project/ your-code/ requirements.txt .gitignore\n",
    "    ```\n",
    "\n",
    "3. **Commit the changes** to the repository:\n",
    "    ```bash\n",
    "    git commit -m \"Initial commit for quadratic equation solver project\"\n",
    "    ```\n",
    "\n",
    "These steps should be executed in your terminal (not inside the notebook) as part of version control process.\n"
   ]
  },
  {
   "cell_type": "code",
   "execution_count": null,
   "metadata": {
    "id": "_MSIuM6Jz8-s"
   },
   "outputs": [],
   "source": [
    "# Git initialization and commit steps (for reference, not to be executed in Colab)\n",
    "!git init\n",
    "!git add .\n",
    "!git commit -m \"Initial commit for quadratic equation solver project\""
   ]
  },
  {
   "cell_type": "markdown",
   "metadata": {
    "id": "258__mFXsxA1"
   },
   "source": [
    "## Testing the Function\n",
    "\n",
    "In this section, we will test the function by solving a quadratic equation. The user will be asked to input the values for $a$, $b$, and $c$, and the function will display the roots of the equation.\n",
    "\n",
    "### Example 1\n",
    "For the quadratic equation $x^2 - 3x + 2 = 0$, the roots should be $x = 2$ and $x = 1$.\n"
   ]
  },
  {
   "cell_type": "code",
   "execution_count": 4,
   "metadata": {
    "colab": {
     "base_uri": "https://localhost:8080/"
    },
    "executionInfo": {
     "elapsed": 2540,
     "status": "ok",
     "timestamp": 1740015634850,
     "user": {
      "displayName": "Ginosca Alejandro Dávila",
      "userId": "10393856825300828184"
     },
     "user_tz": 240
    },
    "id": "88PdH2NgsWi3",
    "outputId": "5d58d63e-9473-42c1-829a-6beaf4a9b78d"
   },
   "outputs": [
    {
     "name": "stdin",
     "output_type": "stream",
     "text": [
      "Enter coefficient a:  1\n",
      "Enter coefficient b:  -3\n",
      "Enter coefficient c:  2\n"
     ]
    },
    {
     "name": "stdout",
     "output_type": "stream",
     "text": [
      "The roots for the equation 1.0x^2 + -3.0x + 2.0 = 0 are: (2.0, 1.0)\n"
     ]
    }
   ],
   "source": [
    "# Example 1: Testing with quadratic equation x^2 - 3x + 2 = 0\n",
    "\n",
    "# Loop until valid numerical input is entered\n",
    "while True:\n",
    "    try:\n",
    "        a = float(input(\"Enter coefficient a: \"))  # Expected a = 1\n",
    "        b = float(input(\"Enter coefficient b: \"))  # Expected b = -3\n",
    "        c = float(input(\"Enter coefficient c: \"))  # Expected c = 2\n",
    "        break  # If inputs are valid, exit the loop\n",
    "    except ValueError:\n",
    "        print(\"Invalid input! Please enter numeric values.\")\n",
    "\n",
    "# Call the function to calculate the roots\n",
    "roots = solve_quadratic(a, b, c)\n",
    "\n",
    "# Display the roots for the equation\n",
    "print(f\"The roots for the equation {a}x^2 + {b}x + {c} = 0 are: {roots}\")\n"
   ]
  },
  {
   "cell_type": "markdown",
   "metadata": {
    "id": "CeVXLmFXuUKx"
   },
   "source": [
    "### Example 2\n",
    "For the quadratic equation $x^2 - 2x + 1 = 0$, the root should be $x = 1$.\n"
   ]
  },
  {
   "cell_type": "code",
   "execution_count": 6,
   "metadata": {
    "colab": {
     "base_uri": "https://localhost:8080/"
    },
    "executionInfo": {
     "elapsed": 4830,
     "status": "ok",
     "timestamp": 1740015653524,
     "user": {
      "displayName": "Ginosca Alejandro Dávila",
      "userId": "10393856825300828184"
     },
     "user_tz": 240
    },
    "id": "Kxi2z8meuRFg",
    "outputId": "b70cbc77-f6f2-45ce-9036-be1166ef4cbf"
   },
   "outputs": [
    {
     "name": "stdin",
     "output_type": "stream",
     "text": [
      "Enter coefficient a:  1\n",
      "Enter coefficient b:  -2\n",
      "Enter coefficient c:  1\n"
     ]
    },
    {
     "name": "stdout",
     "output_type": "stream",
     "text": [
      "The roots for the equation 1.0x^2 + -2.0x + 1.0 = 0 are: (1.0,)\n"
     ]
    }
   ],
   "source": [
    "# Example 2: Testing with quadratic equation x^2 - 2x + 1 = 0\n",
    "\n",
    "# Loop until valid numerical input is entered\n",
    "while True:\n",
    "    try:\n",
    "        a = float(input(\"Enter coefficient a: \"))  # Expected a = 1\n",
    "        b = float(input(\"Enter coefficient b: \"))  # Expected b = -2\n",
    "        c = float(input(\"Enter coefficient c: \"))  # Expected c = 1\n",
    "        break  # If inputs are valid, exit the loop\n",
    "    except ValueError:\n",
    "        print(\"Invalid input! Please enter numeric values.\")\n",
    "\n",
    "# Call the function to calculate the roots\n",
    "roots = solve_quadratic(a, b, c)\n",
    "\n",
    "# Display the roots for the equation\n",
    "print(f\"The roots for the equation {a}x^2 + {b}x + {c} = 0 are: {roots}\")\n"
   ]
  },
  {
   "cell_type": "markdown",
   "metadata": {
    "id": "nYXPSoQouk1n"
   },
   "source": [
    "\n",
    "### Example 3\n",
    "For the quadratic equation $x^2 + 2x + 5 = 0$, the roots are **not real**.\n"
   ]
  },
  {
   "cell_type": "code",
   "execution_count": 8,
   "metadata": {
    "colab": {
     "base_uri": "https://localhost:8080/"
    },
    "executionInfo": {
     "elapsed": 2280,
     "status": "ok",
     "timestamp": 1740015670188,
     "user": {
      "displayName": "Ginosca Alejandro Dávila",
      "userId": "10393856825300828184"
     },
     "user_tz": 240
    },
    "id": "93TEM_vrutky",
    "outputId": "d76d0a39-b003-46da-d895-714a65421a08"
   },
   "outputs": [
    {
     "name": "stdin",
     "output_type": "stream",
     "text": [
      "Enter coefficient a:  1\n",
      "Enter coefficient b:  2\n",
      "Enter coefficient c:  5\n"
     ]
    },
    {
     "name": "stdout",
     "output_type": "stream",
     "text": [
      "The roots for the equation 1.0x^2 + 2.0x + 5.0 = 0 are: No real roots\n"
     ]
    }
   ],
   "source": [
    "# Example 3: Testing with quadratic equation x^2 + 2x + 5 = 0 (No real roots)\n",
    "\n",
    "# Loop until valid numerical input is entered\n",
    "while True:\n",
    "    try:\n",
    "        a = float(input(\"Enter coefficient a: \"))  # Expected a = 1\n",
    "        b = float(input(\"Enter coefficient b: \"))  # Expected b = 2\n",
    "        c = float(input(\"Enter coefficient c: \"))  # Expected c = 5\n",
    "        break  # If inputs are valid, exit the loop\n",
    "    except ValueError:\n",
    "        print(\"Invalid input! Please enter numeric values.\")\n",
    "\n",
    "# Call the function to calculate the roots\n",
    "roots = solve_quadratic(a, b, c)\n",
    "\n",
    "# Display the roots for the equation\n",
    "print(f\"The roots for the equation {a}x^2 + {b}x + {c} = 0 are: {roots}\")\n"
   ]
  },
  {
   "cell_type": "markdown",
   "metadata": {
    "id": "YG4JRn5s0wfp"
   },
   "source": [
    "\n",
    "## Create a Pull Request\n",
    "\n",
    "After pushing the code to the GitHub repository, you can create a **Pull Request (PR)** to review the changes.\n",
    "\n",
    "### Steps:\n",
    "1. Go to your **GitHub repository**.\n",
    "2. Click on **\"Pull requests\"** at the top of the page.\n",
    "3. Click **\"New pull request\"**.\n",
    "4. Select **`main`** branch and compare with your local changes.\n",
    "5. Click **\"Create pull request\"** and add a description of the changes.\n",
    "6. Submit the pull request for review.\n",
    "\n",
    "This will allow others to review and merge your changes into the main branch.\n"
   ]
  },
  {
   "cell_type": "markdown",
   "metadata": {
    "id": "2LKmZ2v3s8ci"
   },
   "source": [
    "## Conclusion\n",
    "\n",
    "In this notebook, a simple quadratic equation solver was implemented using Python. The function was tested by solving quadratic equations with real roots, and the results were correct.\n",
    "\n",
    "### Next Steps:\n",
    "- The notebook could be extended to handle complex roots, where the discriminant is negative.\n",
    "- This solution could be integrated into a larger mathematical modeling framework or an MLOps pipeline for more advanced use cases.\n"
   ]
  }
 ],
 "metadata": {
  "colab": {
   "authorship_tag": "ABX9TyMJK8IS1TYOjoFwN2QiWsXn",
   "provenance": []
  },
  "kernelspec": {
   "display_name": "Python [conda env:base] *",
   "language": "python",
   "name": "conda-base-py"
  },
  "language_info": {
   "codemirror_mode": {
    "name": "ipython",
    "version": 3
   },
   "file_extension": ".py",
   "mimetype": "text/x-python",
   "name": "python",
   "nbconvert_exporter": "python",
   "pygments_lexer": "ipython3",
   "version": "3.12.7"
  }
 },
 "nbformat": 4,
 "nbformat_minor": 4
}
